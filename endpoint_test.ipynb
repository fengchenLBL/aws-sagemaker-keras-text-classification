{
 "cells": [
  {
   "cell_type": "markdown",
   "metadata": {},
   "source": [
    "# Training and Hosting your Algorithm in Amazon SageMaker\n",
    "# ![image](https://miro.medium.com/max/792/1*41reGFhdysmXNVHgmPMExA.png)"
   ]
  },
  {
   "cell_type": "markdown",
   "metadata": {},
   "source": [
    "## Endpoint Test:\n",
    "### InvokeEndpoint using boto3"
   ]
  },
  {
   "cell_type": "code",
   "execution_count": 5,
   "metadata": {},
   "outputs": [
    {
     "name": "stdout",
     "output_type": "stream",
     "text": [
      "{\"result\": \"Entertainment\"}\n"
     ]
    }
   ],
   "source": [
    "import json\n",
    "import boto3\n",
    "\n",
    "client = boto3.client('runtime.sagemaker')\n",
    "endpoint_name = 'sagemaker-keras-text-classification-2020-04-22-01-18-26-512'\n",
    "\n",
    "payload = { \"input\": \"‘Deadpool 2’ Has More Swearing, Slicing and Dicing from Ryan Reynolds\"}\n",
    "\n",
    "response = client.invoke_endpoint(EndpointName=endpoint_name,\n",
    "                                  ContentType='application/json',\n",
    "                                  Accept='text/plain',\n",
    "                                  Body=json.dumps(payload))\n",
    "\n",
    "response_body = response['Body']\n",
    "prediction = response_body.read().decode('utf-8')\n",
    "print(prediction)"
   ]
  },
  {
   "cell_type": "markdown",
   "metadata": {},
   "source": [
    "### InvokeEndpoint using AWS CLI"
   ]
  },
  {
   "cell_type": "code",
   "execution_count": 6,
   "metadata": {},
   "outputs": [
    {
     "name": "stdout",
     "output_type": "stream",
     "text": [
      "{\n",
      "    \"ContentType\": \"application/json\",\n",
      "    \"InvokedProductionVariant\": \"AllTraffic\"\n",
      "}\n",
      "{\"result\": \"Health & Medicine\"}"
     ]
    }
   ],
   "source": [
    "%%sh \n",
    "ENDPOINT_NAME=\"sagemaker-keras-text-classification-2020-04-22-01-18-26-512\"\n",
    "CONTENT_TYPE='application/json'\n",
    "\n",
    "aws sagemaker-runtime invoke-endpoint \\\n",
    "--endpoint-name ${ENDPOINT_NAME} \\\n",
    "--content-type ${CONTENT_TYPE} \\\n",
    "--body '{\"input\": \"Why Exercise Alone May Not Be the Key to Weight Loss\"}' prediction_response.json\n",
    "\n",
    "cat prediction_response.json"
   ]
  }
 ],
 "metadata": {
  "kernelspec": {
   "display_name": "conda_tensorflow_p36",
   "language": "python",
   "name": "conda_tensorflow_p36"
  },
  "language_info": {
   "codemirror_mode": {
    "name": "ipython",
    "version": 3
   },
   "file_extension": ".py",
   "mimetype": "text/x-python",
   "name": "python",
   "nbconvert_exporter": "python",
   "pygments_lexer": "ipython3",
   "version": "3.6.6"
  }
 },
 "nbformat": 4,
 "nbformat_minor": 4
}
